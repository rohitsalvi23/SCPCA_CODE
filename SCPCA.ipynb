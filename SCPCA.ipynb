{
 "cells": [
  {
   "cell_type": "code",
   "execution_count": 1,
   "id": "5854a637",
   "metadata": {},
   "outputs": [
    {
     "name": "stderr",
     "output_type": "stream",
     "text": [
      "22/08/07 23:10:30 WARN Utils: Your hostname, rohit resolves to a loopback address: 127.0.1.1; using 192.168.64.6 instead (on interface enp0s6)\n",
      "22/08/07 23:10:30 WARN Utils: Set SPARK_LOCAL_IP if you need to bind to another address\n",
      "22/08/07 23:10:31 WARN NativeCodeLoader: Unable to load native-hadoop library for your platform... using builtin-java classes where applicable\n",
      "Using Spark's default log4j profile: org/apache/spark/log4j-defaults.properties\n",
      "Setting default log level to \"WARN\".\n",
      "To adjust logging level use sc.setLogLevel(newLevel). For SparkR, use setLogLevel(newLevel).\n",
      "22/08/07 23:10:32 WARN Utils: Service 'SparkUI' could not bind on port 4040. Attempting port 4041.\n",
      "22/08/07 23:10:32 WARN Utils: Service 'SparkUI' could not bind on port 4041. Attempting port 4042.\n",
      "22/08/07 23:10:32 WARN Utils: Service 'SparkUI' could not bind on port 4042. Attempting port 4043.\n"
     ]
    }
   ],
   "source": [
    "import findspark\n",
    "findspark.init()\n",
    "from pyspark.sql import SparkSession\n",
    "from pyspark import SparkContext\n",
    "sc = SparkContext(\"local\",\"test\")\n",
    "spark = SparkSession(sc)"
   ]
  },
  {
   "cell_type": "code",
   "execution_count": 3,
   "id": "100da5a2",
   "metadata": {},
   "outputs": [
    {
     "name": "stderr",
     "output_type": "stream",
     "text": [
      "[Stage 4:============================================>              (3 + 1) / 4]\r"
     ]
    },
    {
     "name": "stdout",
     "output_type": "stream",
     "text": [
      "+----------+--------+-------+---------+------+----------+-----------+-------+-------+-----+\n",
      "|      date|    time|   size|r_version|r_arch|      r_os|    package|version|country|ip_id|\n",
      "+----------+--------+-------+---------+------+----------+-----------+-------+-------+-----+\n",
      "|2022-06-10|18:49:20|  18989|       NA|    NA|        NA|       jpeg|  0.1-9|     US|    1|\n",
      "|2022-06-10|18:47:06| 288909|       NA|    NA|        NA|     dtplyr|  1.2.1|     US|    2|\n",
      "|2022-06-10|18:49:18|2450682|       NA|    NA|        NA|        rgl|0.109.2|     GB|    3|\n",
      "|2022-06-10|18:49:18| 425217|    3.5.2|x86_64| linux-gnu|       ragg|  1.2.2|     GB|    4|\n",
      "|2022-06-10|18:49:24|  18390|       NA|    NA|        NA|    memoise|  2.0.1|     US|    5|\n",
      "|2022-06-10|18:49:21| 342889|       NA|    NA|        NA|    usethis|  2.1.6|     US|    5|\n",
      "|2022-06-10|18:49:12| 943544|       NA|    NA|        NA|    threejs|  0.3.3|     NA|    6|\n",
      "|2022-06-10|18:49:21|2581945|    4.2.0|x86_64|darwin17.0|    ggiraph|  0.8.2|     US|    7|\n",
      "|2022-06-10|18:49:23| 372953|       NA|    NA|        NA|   devtools|  2.4.3|     GB|    3|\n",
      "|2022-06-10|18:49:14| 290780|       NA|    NA|        NA|      rgeos|  0.5-9|     GB|    8|\n",
      "|2022-06-10|18:49:22|3603905|       NA|    NA|        NA|  survminer|  0.4.9|     US|    9|\n",
      "|2022-06-10|18:49:23|1434223|    4.2.0|x86_64|darwin17.0|      knitr|   1.39|     NA|    6|\n",
      "|2022-06-10|18:49:21| 310595|    4.2.0|x86_64|   mingw32|      fansi|  1.0.3|     PK|   10|\n",
      "|2022-06-10|18:49:18| 425217|    3.5.2|x86_64| linux-gnu|       ragg|  1.2.2|     GB|    4|\n",
      "|2022-06-10|18:49:14|  36561|       NA|    NA|        NA|   quadprog|  1.5-8|     US|   11|\n",
      "|2022-06-10|18:49:21|1114395|       NA|    NA|        NA|       npbr|    1.6|     US|   12|\n",
      "|2022-06-10|18:49:13| 582833|       NA|    NA|        NA|Brobdingnag|  1.2-7|     NA|    6|\n",
      "|2022-06-10|18:49:18|3174060|    4.2.0|x86_64|   mingw32|     plotly| 4.10.0|     US|   13|\n",
      "|2022-06-10|18:49:17| 806523|    4.1.1|x86_64|darwin17.0|  rootSolve|1.8.2.3|     NL|   14|\n",
      "|2022-06-10|18:49:13| 326245|    4.2.0|x86_64| linux-gnu|      e1071| 1.7-11|     US|   15|\n",
      "+----------+--------+-------+---------+------+----------+-----------+-------+-------+-----+\n",
      "only showing top 20 rows\n",
      "\n"
     ]
    },
    {
     "name": "stderr",
     "output_type": "stream",
     "text": [
      "\r",
      "                                                                                \r"
     ]
    }
   ],
   "source": [
    "df = spark.read.csv(\"hdfs://localhost:9000/user/rohit/scpca/2022-06-10.csv\", inferSchema = True, header = True)\n",
    "df.show()"
   ]
  },
  {
   "cell_type": "code",
   "execution_count": 4,
   "id": "a4a88760",
   "metadata": {},
   "outputs": [
    {
     "name": "stderr",
     "output_type": "stream",
     "text": [
      "[Stage 7:============================================>              (3 + 1) / 4]\r"
     ]
    },
    {
     "name": "stdout",
     "output_type": "stream",
     "text": [
      "+----------+--------+-------+---------+------+----------+-----------+-------+-------+-----+\n",
      "|      date|    time|   size|r_version|r_arch|      r_os|    package|version|country|ip_id|\n",
      "+----------+--------+-------+---------+------+----------+-----------+-------+-------+-----+\n",
      "|2022-06-10|18:49:20|  18989|     null|  null|      null|       jpeg|  0.1-9|     US|    1|\n",
      "|2022-06-10|18:47:06| 288909|     null|  null|      null|     dtplyr|  1.2.1|     US|    2|\n",
      "|2022-06-10|18:49:18|2450682|     null|  null|      null|        rgl|0.109.2|     GB|    3|\n",
      "|2022-06-10|18:49:18| 425217|    3.5.2|x86_64| linux-gnu|       ragg|  1.2.2|     GB|    4|\n",
      "|2022-06-10|18:49:24|  18390|     null|  null|      null|    memoise|  2.0.1|     US|    5|\n",
      "|2022-06-10|18:49:21| 342889|     null|  null|      null|    usethis|  2.1.6|     US|    5|\n",
      "|2022-06-10|18:49:12| 943544|     null|  null|      null|    threejs|  0.3.3|   null|    6|\n",
      "|2022-06-10|18:49:21|2581945|    4.2.0|x86_64|darwin17.0|    ggiraph|  0.8.2|     US|    7|\n",
      "|2022-06-10|18:49:23| 372953|     null|  null|      null|   devtools|  2.4.3|     GB|    3|\n",
      "|2022-06-10|18:49:14| 290780|     null|  null|      null|      rgeos|  0.5-9|     GB|    8|\n",
      "|2022-06-10|18:49:22|3603905|     null|  null|      null|  survminer|  0.4.9|     US|    9|\n",
      "|2022-06-10|18:49:23|1434223|    4.2.0|x86_64|darwin17.0|      knitr|   1.39|   null|    6|\n",
      "|2022-06-10|18:49:21| 310595|    4.2.0|x86_64|   mingw32|      fansi|  1.0.3|     PK|   10|\n",
      "|2022-06-10|18:49:18| 425217|    3.5.2|x86_64| linux-gnu|       ragg|  1.2.2|     GB|    4|\n",
      "|2022-06-10|18:49:14|  36561|     null|  null|      null|   quadprog|  1.5-8|     US|   11|\n",
      "|2022-06-10|18:49:21|1114395|     null|  null|      null|       npbr|    1.6|     US|   12|\n",
      "|2022-06-10|18:49:13| 582833|     null|  null|      null|Brobdingnag|  1.2-7|   null|    6|\n",
      "|2022-06-10|18:49:18|3174060|    4.2.0|x86_64|   mingw32|     plotly| 4.10.0|     US|   13|\n",
      "|2022-06-10|18:49:17| 806523|    4.1.1|x86_64|darwin17.0|  rootSolve|1.8.2.3|     NL|   14|\n",
      "|2022-06-10|18:49:13| 326245|    4.2.0|x86_64| linux-gnu|      e1071| 1.7-11|     US|   15|\n",
      "+----------+--------+-------+---------+------+----------+-----------+-------+-------+-----+\n",
      "only showing top 20 rows\n",
      "\n"
     ]
    },
    {
     "name": "stderr",
     "output_type": "stream",
     "text": [
      "\r",
      "                                                                                \r"
     ]
    }
   ],
   "source": [
    "df1 = spark.read.csv(\"hdfs://localhost:9000/user/rohit/scpca/2022-06-10.csv\", inferSchema = True, header = True, nullValue=\"NA\")\n",
    "df1.show()"
   ]
  },
  {
   "cell_type": "code",
   "execution_count": 5,
   "id": "c204788b",
   "metadata": {},
   "outputs": [
    {
     "name": "stderr",
     "output_type": "stream",
     "text": [
      "                                                                                \r"
     ]
    },
    {
     "name": "stdout",
     "output_type": "stream",
     "text": [
      "+----------+--------+-------+---------+------+----------+-----------+-------+-------+-----+\n",
      "|      date|    time|   size|r_version|r_arch|      r_os|    package|version|country|ip_id|\n",
      "+----------+--------+-------+---------+------+----------+-----------+-------+-------+-----+\n",
      "|2022-06-10|18:49:20|  18989|    4.2.0|x86_64|   mingw32|       jpeg|  0.1-9|     US|    1|\n",
      "|2022-06-10|18:47:06| 288909|    4.2.0|x86_64|   mingw32|     dtplyr|  1.2.1|     US|    2|\n",
      "|2022-06-10|18:49:18|2450682|    4.2.0|x86_64|   mingw32|        rgl|0.109.2|     GB|    3|\n",
      "|2022-06-10|18:49:18| 425217|    3.5.2|x86_64| linux-gnu|       ragg|  1.2.2|     GB|    4|\n",
      "|2022-06-10|18:49:24|  18390|    4.2.0|x86_64|   mingw32|    memoise|  2.0.1|     US|    5|\n",
      "|2022-06-10|18:49:21| 342889|    4.2.0|x86_64|   mingw32|    usethis|  2.1.6|     US|    5|\n",
      "|2022-06-10|18:49:12| 943544|    4.2.0|x86_64|   mingw32|    threejs|  0.3.3|     US|    6|\n",
      "|2022-06-10|18:49:21|2581945|    4.2.0|x86_64|darwin17.0|    ggiraph|  0.8.2|     US|    7|\n",
      "|2022-06-10|18:49:23| 372953|    4.2.0|x86_64|   mingw32|   devtools|  2.4.3|     GB|    3|\n",
      "|2022-06-10|18:49:14| 290780|    4.2.0|x86_64|   mingw32|      rgeos|  0.5-9|     GB|    8|\n",
      "|2022-06-10|18:49:22|3603905|    4.2.0|x86_64|   mingw32|  survminer|  0.4.9|     US|    9|\n",
      "|2022-06-10|18:49:23|1434223|    4.2.0|x86_64|darwin17.0|      knitr|   1.39|     US|    6|\n",
      "|2022-06-10|18:49:21| 310595|    4.2.0|x86_64|   mingw32|      fansi|  1.0.3|     PK|   10|\n",
      "|2022-06-10|18:49:18| 425217|    3.5.2|x86_64| linux-gnu|       ragg|  1.2.2|     GB|    4|\n",
      "|2022-06-10|18:49:14|  36561|    4.2.0|x86_64|   mingw32|   quadprog|  1.5-8|     US|   11|\n",
      "|2022-06-10|18:49:21|1114395|    4.2.0|x86_64|   mingw32|       npbr|    1.6|     US|   12|\n",
      "|2022-06-10|18:49:13| 582833|    4.2.0|x86_64|   mingw32|Brobdingnag|  1.2-7|     US|    6|\n",
      "|2022-06-10|18:49:18|3174060|    4.2.0|x86_64|   mingw32|     plotly| 4.10.0|     US|   13|\n",
      "|2022-06-10|18:49:17| 806523|    4.1.1|x86_64|darwin17.0|  rootSolve|1.8.2.3|     NL|   14|\n",
      "|2022-06-10|18:49:13| 326245|    4.2.0|x86_64| linux-gnu|      e1071| 1.7-11|     US|   15|\n",
      "+----------+--------+-------+---------+------+----------+-----------+-------+-------+-----+\n",
      "only showing top 20 rows\n",
      "\n"
     ]
    }
   ],
   "source": [
    "r_version_with_most_counts = df1.filter('r_version is not null').groupBy('r_version').count().orderBy('count', ascending=False).collect()[0].r_version\n",
    "df1 = df1.na.fill(value=r_version_with_most_counts,subset=[\"r_version\"])\n",
    "\n",
    "r_arch_with_most_counts = df1.filter('r_arch is not null').groupBy('r_arch').count().orderBy('count', ascending=False).collect()[0].r_arch\n",
    "df1 = df1.na.fill(value=r_arch_with_most_counts,subset=[\"r_arch\"])\n",
    "\n",
    "r_os_with_most_counts = df1.filter('r_os is not null').groupBy('r_os').count().orderBy('count', ascending=False).collect()[0].r_os\n",
    "df1 = df1.na.fill(value=r_os_with_most_counts,subset=[\"r_os\"])\n",
    "\n",
    "package_with_most_counts = df1.filter('package is not null').groupBy('package').count().orderBy('count', ascending=False).collect()[0].package\n",
    "df1 = df1.na.fill(value=package_with_most_counts,subset=[\"package\"])\n",
    "\n",
    "version_with_most_counts = df1.filter('version is not null').groupBy('version').count().orderBy('count', ascending=False).collect()[0].version\n",
    "df1 = df1.na.fill(value=version_with_most_counts,subset=[\"version\"])\n",
    "\n",
    "country_with_most_counts = df1.filter('country is not null').groupBy('country').count().orderBy('count', ascending=False).collect()[0].country\n",
    "df1 = df1.na.fill(value=country_with_most_counts,subset=[\"country\"])\n",
    "\n",
    "df1.show()"
   ]
  },
  {
   "cell_type": "code",
   "execution_count": 6,
   "id": "9977884f",
   "metadata": {},
   "outputs": [],
   "source": [
    "df1.createOrReplaceTempView(\"packages\")"
   ]
  },
  {
   "cell_type": "code",
   "execution_count": 7,
   "id": "2389a982",
   "metadata": {},
   "outputs": [
    {
     "name": "stderr",
     "output_type": "stream",
     "text": [
      "[Stage 40:===========================================>              (3 + 1) / 4]\r"
     ]
    },
    {
     "name": "stdout",
     "output_type": "stream",
     "text": [
      "+---------------------------+\n",
      "|NUMBER_OF_ggplot2_DOWNLOADS|\n",
      "+---------------------------+\n",
      "|                      96158|\n",
      "+---------------------------+\n",
      "\n"
     ]
    },
    {
     "name": "stderr",
     "output_type": "stream",
     "text": [
      "\r",
      "                                                                                \r"
     ]
    }
   ],
   "source": [
    "question1 = spark.sql('SELECT COUNT(package) AS NUMBER_OF_ggplot2_DOWNLOADS FROM packages WHERE package=\"ggplot2\"')\n",
    "question1.show()"
   ]
  },
  {
   "cell_type": "code",
   "execution_count": 8,
   "id": "ba2b8d0e",
   "metadata": {},
   "outputs": [
    {
     "name": "stderr",
     "output_type": "stream",
     "text": [
      "[Stage 42:===========================================>              (3 + 1) / 4]\r"
     ]
    },
    {
     "name": "stdout",
     "output_type": "stream",
     "text": [
      "+----------------------------------------+\n",
      "|TOTAL_NUMBER_OF_PACKAGE_DOWNLOADS_FOR_US|\n",
      "+----------------------------------------+\n",
      "|                                 3603862|\n",
      "+----------------------------------------+\n",
      "\n"
     ]
    },
    {
     "name": "stderr",
     "output_type": "stream",
     "text": [
      "\r",
      "                                                                                \r"
     ]
    }
   ],
   "source": [
    "question2 = spark.sql('SELECT COUNT(country) AS TOTAL_NUMBER_OF_PACKAGE_DOWNLOADS_FOR_US FROM packages WHERE country=\"US\"')\n",
    "question2.show()"
   ]
  },
  {
   "cell_type": "code",
   "execution_count": 9,
   "id": "814f2279",
   "metadata": {},
   "outputs": [
    {
     "name": "stderr",
     "output_type": "stream",
     "text": [
      "                                                                                \r"
     ]
    },
    {
     "name": "stdout",
     "output_type": "stream",
     "text": [
      "+------------+---------+\n",
      "|PACKAGE_NAME|     SIZE|\n",
      "+------------+---------+\n",
      "|         h2o|179368160|\n",
      "|          sf|106868268|\n",
      "|       terra|105924404|\n",
      "|       rgdal| 98924892|\n",
      "|   gdalcubes| 92972267|\n",
      "|        Boom| 87584022|\n",
      "|      vapour| 83397309|\n",
      "|      mlpack| 53200349|\n",
      "|      duckdb| 52988625|\n",
      "|       torch| 44241470|\n",
      "+------------+---------+\n",
      "only showing top 10 rows\n",
      "\n"
     ]
    }
   ],
   "source": [
    "question3 = spark.sql('SELECT package AS PACKAGE_NAME, max(size) AS SIZE FROM packages GROUP BY package order by max(size) desc')\n",
    "question3.show(10)"
   ]
  },
  {
   "cell_type": "code",
   "execution_count": 10,
   "id": "27a46ec6",
   "metadata": {},
   "outputs": [
    {
     "name": "stderr",
     "output_type": "stream",
     "text": [
      "[Stage 46:===========================================>              (3 + 1) / 4]\r"
     ]
    },
    {
     "name": "stdout",
     "output_type": "stream",
     "text": [
      "+--------+-------------------+\n",
      "| PACKAGE|NUMBER_OF_DOWNLOADS|\n",
      "+--------+-------------------+\n",
      "| ggplot2|              96158|\n",
      "|   rlang|              75117|\n",
      "|   dplyr|              73894|\n",
      "|     cli|              66245|\n",
      "|devtools|              65148|\n",
      "|   vctrs|              64526|\n",
      "|    glue|              63487|\n",
      "|      sf|              61552|\n",
      "|     rgl|              55708|\n",
      "|   rgeos|              55496|\n",
      "+--------+-------------------+\n",
      "only showing top 10 rows\n",
      "\n"
     ]
    },
    {
     "name": "stderr",
     "output_type": "stream",
     "text": [
      "\r",
      "[Stage 47:===============================================>      (176 + 1) / 200]\r",
      "\r",
      "                                                                                \r"
     ]
    }
   ],
   "source": [
    "question4 = spark.sql('SELECT package AS PACKAGE, COUNT(package) AS NUMBER_OF_DOWNLOADS FROM packages GROUP BY package ORDER BY COUNT(package) DESC')\n",
    "question4.show(10)"
   ]
  },
  {
   "cell_type": "code",
   "execution_count": 11,
   "id": "0df164f1",
   "metadata": {},
   "outputs": [
    {
     "name": "stderr",
     "output_type": "stream",
     "text": [
      "                                                                                \r"
     ]
    },
    {
     "name": "stdout",
     "output_type": "stream",
     "text": [
      "+------------------------------+\n",
      "|OS_USED_IN_DOWNLOADING_ggplot2|\n",
      "+------------------------------+\n",
      "|                  darwin15.6.0|\n",
      "|                  darwin21.1.0|\n",
      "|                  darwin21.3.0|\n",
      "|                  darwin19.6.0|\n",
      "|                  darwin19.4.0|\n",
      "|                  darwin18.6.0|\n",
      "|               linux-gnueabihf|\n",
      "|                    linux-musl|\n",
      "|                  darwin20.6.0|\n",
      "|                    darwin17.0|\n",
      "|                       mingw32|\n",
      "|                  darwin13.4.0|\n",
      "|                     linux-gnu|\n",
      "|                      darwin20|\n",
      "+------------------------------+\n",
      "\n"
     ]
    }
   ],
   "source": [
    "question5 = spark.sql('SELECT DISTINCT(r_os) AS OS_USED_IN_DOWNLOADING_ggplot2 FROM packages WHERE package=\"ggplot2\"')\n",
    "question5.show()"
   ]
  },
  {
   "cell_type": "code",
   "execution_count": 14,
   "id": "888e64d4",
   "metadata": {},
   "outputs": [
    {
     "name": "stderr",
     "output_type": "stream",
     "text": [
      "[Stage 73:======================================>               (142 + 1) / 200]\r"
     ]
    },
    {
     "name": "stdout",
     "output_type": "stream",
     "text": [
      "+--------+------------------------------+\n",
      "| package|NUMBER_OF_DOWNLOADS_IN_IRELAND|\n",
      "+--------+------------------------------+\n",
      "|    glue|                            28|\n",
      "|   rlang|                            28|\n",
      "|   vctrs|                            24|\n",
      "| ggplot2|                            24|\n",
      "|magrittr|                            23|\n",
      "|     cli|                            23|\n",
      "|   RCurl|                            23|\n",
      "|    Rcpp|                            21|\n",
      "|  scales|                            21|\n",
      "|  pillar|                            21|\n",
      "+--------+------------------------------+\n",
      "only showing top 10 rows\n",
      "\n"
     ]
    },
    {
     "name": "stderr",
     "output_type": "stream",
     "text": [
      "\r",
      "[Stage 73:==============================================>       (173 + 1) / 200]\r",
      "\r",
      "                                                                                \r"
     ]
    }
   ],
   "source": [
    "question6 = spark.sql('SELECT package, COUNT(package) AS NUMBER_OF_DOWNLOADS_IN_IRELAND FROM packages WHERE country=\"IR\" GROUP BY package ORDER BY COUNT(package) DESC')\n",
    "question6.show(10)"
   ]
  },
  {
   "cell_type": "code",
   "execution_count": 15,
   "id": "6c9ff9fd",
   "metadata": {},
   "outputs": [
    {
     "name": "stderr",
     "output_type": "stream",
     "text": [
      "                                                                                \r"
     ]
    },
    {
     "name": "stdout",
     "output_type": "stream",
     "text": [
      "+----+-------------------+\n",
      "|  IP|NUMBER_OF_DOWNLOADS|\n",
      "+----+-------------------+\n",
      "|   6|             542414|\n",
      "|   4|             223731|\n",
      "|1658|             138513|\n",
      "|   8|              92689|\n",
      "|   3|              84957|\n",
      "+----+-------------------+\n",
      "only showing top 5 rows\n",
      "\n"
     ]
    },
    {
     "name": "stderr",
     "output_type": "stream",
     "text": [
      "                                                                                \r"
     ]
    },
    {
     "name": "stdout",
     "output_type": "stream",
     "text": [
      "+---------------+\n",
      "|OS_USED_BY_IP_6|\n",
      "+---------------+\n",
      "|   darwin15.6.0|\n",
      "|   darwin21.1.0|\n",
      "|   darwin20.2.0|\n",
      "|   darwin21.3.0|\n",
      "|   darwin19.6.0|\n",
      "|   darwin20.4.0|\n",
      "|   darwin18.6.0|\n",
      "|   darwin21.5.0|\n",
      "|   darwin20.3.0|\n",
      "|linux-gnueabihf|\n",
      "|   darwin18.7.0|\n",
      "|     linux-musl|\n",
      "|   darwin20.6.0|\n",
      "|     darwin17.0|\n",
      "|        mingw32|\n",
      "|   darwin13.4.0|\n",
      "|      linux-gnu|\n",
      "|       darwin20|\n",
      "+---------------+\n",
      "\n"
     ]
    }
   ],
   "source": [
    "question7a = spark.sql('SELECT ip_id AS IP, COUNT(ip_id) AS NUMBER_OF_DOWNLOADS FROM packages GROUP BY ip_id ORDER BY COUNT(ip_id) DESC')\n",
    "question7a.show(5)\n",
    "\n",
    "question7b = spark.sql('SELECT DISTINCT(r_os) AS OS_USED_BY_IP_6 FROM packages WHERE ip_id = \"6\"')\n",
    "question7b.show()"
   ]
  },
  {
   "cell_type": "code",
   "execution_count": 21,
   "id": "782e706c",
   "metadata": {},
   "outputs": [
    {
     "name": "stderr",
     "output_type": "stream",
     "text": [
      "[Stage 96:===========================================>          (161 + 1) / 200]\r"
     ]
    },
    {
     "name": "stdout",
     "output_type": "stream",
     "text": [
      "+------------+-------+\n",
      "|          OS|  COUNT|\n",
      "+------------+-------+\n",
      "|     mingw32|4844271|\n",
      "|   linux-gnu| 781997|\n",
      "|  darwin17.0| 533670|\n",
      "|    darwin20|  69036|\n",
      "|darwin15.6.0|  25962|\n",
      "+------------+-------+\n",
      "only showing top 5 rows\n",
      "\n"
     ]
    },
    {
     "name": "stderr",
     "output_type": "stream",
     "text": [
      "\r",
      "                                                                                \r"
     ]
    }
   ],
   "source": [
    "question8 = spark.sql('SELECT r_os AS OS, COUNT(r_os) AS COUNT FROM packages GROUP BY r_os ORDER BY COUNT(r_os) DESC')\n",
    "question8.show(5)"
   ]
  },
  {
   "cell_type": "code",
   "execution_count": 17,
   "id": "408d67bc",
   "metadata": {},
   "outputs": [
    {
     "name": "stderr",
     "output_type": "stream",
     "text": [
      "[Stage 89:===================================================>  (190 + 1) / 200]\r"
     ]
    },
    {
     "name": "stdout",
     "output_type": "stream",
     "text": [
      "+-------------------------------------+\n",
      "|NUMBER_OF_USERS_USING_32_BIT_MACHINES|\n",
      "+-------------------------------------+\n",
      "|                                 1028|\n",
      "+-------------------------------------+\n",
      "\n"
     ]
    },
    {
     "name": "stderr",
     "output_type": "stream",
     "text": [
      "\r",
      "                                                                                \r"
     ]
    }
   ],
   "source": [
    "question9 = spark.sql('SELECT COUNT(DISTINCT(ip_id)) AS NUMBER_OF_USERS_USING_32_BIT_MACHINES FROM packages WHERE r_arch = \"i386\"')\n",
    "question9.show()"
   ]
  },
  {
   "cell_type": "code",
   "execution_count": 18,
   "id": "e70b6507",
   "metadata": {},
   "outputs": [],
   "source": [
    "df.createOrReplaceTempView(\"packagesold\")"
   ]
  },
  {
   "cell_type": "code",
   "execution_count": 20,
   "id": "e5e2edaa",
   "metadata": {
    "scrolled": true
   },
   "outputs": [
    {
     "name": "stderr",
     "output_type": "stream",
     "text": [
      "[Stage 93:===========================================>              (3 + 1) / 4]\r"
     ]
    },
    {
     "name": "stdout",
     "output_type": "stream",
     "text": [
      "+-------------------------+\n",
      "|LINES_WITH_MISSING_VALUES|\n",
      "+-------------------------+\n",
      "|                  3214567|\n",
      "+-------------------------+\n",
      "\n"
     ]
    },
    {
     "name": "stderr",
     "output_type": "stream",
     "text": [
      "\r",
      "                                                                                \r"
     ]
    }
   ],
   "source": [
    "question10 = spark.sql('Select COUNT(*) AS LINES_WITH_MISSING_VALUES FROM packagesold WHERE r_version = \"NA\" OR r_os=\"NA\" OR r_arch=\"NA\" OR package=\"NA\" OR version=\"NA\" OR country=\"NA\"')\n",
    "question10.show()"
   ]
  },
  {
   "cell_type": "code",
   "execution_count": 49,
   "id": "7b839c4d",
   "metadata": {},
   "outputs": [],
   "source": [
    "sc.stop()"
   ]
  },
  {
   "cell_type": "code",
   "execution_count": null,
   "id": "50987247",
   "metadata": {},
   "outputs": [],
   "source": []
  }
 ],
 "metadata": {
  "kernelspec": {
   "display_name": "Python 3 (ipykernel)",
   "language": "python",
   "name": "python3"
  },
  "language_info": {
   "codemirror_mode": {
    "name": "ipython",
    "version": 3
   },
   "file_extension": ".py",
   "mimetype": "text/x-python",
   "name": "python",
   "nbconvert_exporter": "python",
   "pygments_lexer": "ipython3",
   "version": "3.8.10"
  }
 },
 "nbformat": 4,
 "nbformat_minor": 5
}
